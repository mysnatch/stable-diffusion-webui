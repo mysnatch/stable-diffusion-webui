{
  "nbformat": 4,
  "nbformat_minor": 0,
  "metadata": {
    "colab": {
      "provenance": [],
      "collapsed_sections": []
    },
    "kernelspec": {
      "display_name": "Python 3",
      "language": "python",
      "name": "python3"
    }
  },
  "cells": [
    {
      "cell_type": "markdown",
      "source": [
        "# Download NovelAI leak"
      ],
      "metadata": {
        "id": "aIQxvkLcxO_B"
      }
    },
    {
      "cell_type": "code",
      "source": [
        "!pip install libtorrent\n",
        "\n",
        "import libtorrent as lt\n",
        "import time\n",
        "from IPython.display import clear_output \n",
        "\n",
        "ses = lt.session()\n",
        "ses.listen_on(6881, 6891)\n",
        "\n",
        "params = lt.parse_magnet_uri(\"magnet:?xt=urn:btih:5bde442da86265b670a3e5ea3163afad2c6f8ecc\")\n",
        "params.file_priorities = [int(x) for x in \"0000000000000000000000000000000000000000000000000000000000000001100000000001000000000000000000\"] # dont ask\n",
        "params.save_path = \"/content/\"\n",
        "handle = ses.add_torrent(params)\n",
        "\n",
        "while not handle.is_seed():\n",
        "  status = handle.status()\n",
        "  clear_output()\n",
        "  print(f\"Downloading: {round(status.progress*100,2)}% ({status.download_rate / 1000} kb/s down, {status.num_peers} peers)\")\n",
        "  time.sleep(1)"
      ],
      "metadata": {
        "id": "eloqIO9-dCnv",
        "outputId": "50642ce9-ca48-4e92-f932-3934ae8410fa",
        "colab": {
          "base_uri": "https://localhost:8080/"
        }
      },
      "execution_count": null,
      "outputs": [
        {
          "output_type": "stream",
          "name": "stderr",
          "text": [
            "/usr/local/lib/python3.7/dist-packages/ipykernel_launcher.py:5: DeprecationWarning: listen_on() is deprecated\n",
            "  \"\"\"\n"
          ]
        }
      ]
    },
    {
      "cell_type": "code",
      "source": [
        "# mount it\n",
        "from google.colab import drive\n",
        "drive.mount('/content/drive')"
      ],
      "metadata": {
        "id": "YR5kRzKIvxXD",
        "outputId": "b2a232a4-d7a0-45a8-a6ac-bd1991179f78",
        "colab": {
          "base_uri": "https://localhost:8080/"
        }
      },
      "execution_count": null,
      "outputs": [
        {
          "output_type": "stream",
          "name": "stdout",
          "text": [
            "Mounted at /content/drive\n"
          ]
        }
      ]
    },
    {
      "cell_type": "code",
      "source": [
        "!mkdir /content/drive/MyDrive/novelaileak"
      ],
      "metadata": {
        "id": "QsRk93uu1NKb"
      },
      "execution_count": null,
      "outputs": []
    },
    {
      "cell_type": "code",
      "source": [
        "!cp /content/novelaileak/stableckpt/animefull-final-pruned/model.ckpt /content/drive/MyDrive/novelaileak/model.ckpt\n",
        "!cp /content/novelaileak/stableckpt/animefull-final-pruned/config.yaml /content/drive/MyDrive/novelaileak/config.yaml\n",
        "!cp /content/novelaileak/stableckpt/animevae.pt /content/drive/MyDrive/novelaileak/animevae.pt"
      ],
      "metadata": {
        "id": "WLqhmdnt1JOY"
      },
      "execution_count": null,
      "outputs": []
    }
  ]
}